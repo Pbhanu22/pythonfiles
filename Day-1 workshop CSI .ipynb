{
 "cells": [
  {
   "cell_type": "code",
   "execution_count": 1,
   "id": "69111751",
   "metadata": {},
   "outputs": [
    {
     "data": {
      "text/plain": [
       "'C:\\\\Users\\\\BHANU TEJA\\\\Desktop\\\\Untitled Folder 1'"
      ]
     },
     "execution_count": 1,
     "metadata": {},
     "output_type": "execute_result"
    }
   ],
   "source": [
    "import os\n",
    "os.getcwd()"
   ]
  },
  {
   "cell_type": "code",
   "execution_count": 7,
   "id": "3c906d68",
   "metadata": {},
   "outputs": [
    {
     "name": "stdout",
     "output_type": "stream",
     "text": [
      "59\n",
      "BhanuTeja\n",
      "(5-4j)\n"
     ]
    }
   ],
   "source": [
    "x=59\n",
    "y='BhanuTeja'\n",
    "z=2+4j\n",
    "a=3-8j\n",
    "print(x)\n",
    "print(y)\n",
    "print(a+z)"
   ]
  },
  {
   "cell_type": "code",
   "execution_count": 10,
   "id": "1cb93794",
   "metadata": {},
   "outputs": [
    {
     "name": "stdout",
     "output_type": "stream",
     "text": [
      "<class 'int'>\n",
      "<class 'float'>\n",
      "12.5\n",
      "<class 'float'>\n",
      "<class 'complex'>\n"
     ]
    }
   ],
   "source": [
    "s=2+5j\n",
    "x=5\n",
    "y=7.5\n",
    "print(type(x))\n",
    "print(type(y))\n",
    "z=x+y\n",
    "print(z)\n",
    "print(type(z))\n",
    "print(type(s))"
   ]
  },
  {
   "cell_type": "code",
   "execution_count": 23,
   "id": "8a73e66e",
   "metadata": {},
   "outputs": [
    {
     "name": "stdout",
     "output_type": "stream",
     "text": [
      "True\n"
     ]
    }
   ],
   "source": [
    "x=5\n",
    "y=x\n",
    "flag=x is y\n",
    "print(flag)"
   ]
  },
  {
   "cell_type": "code",
   "execution_count": 22,
   "id": "dc857e79",
   "metadata": {},
   "outputs": [
    {
     "name": "stdout",
     "output_type": "stream",
     "text": [
      "Flag: False\n",
      "K: 1\n",
      "2\n",
      "1\n",
      "25\n",
      "binary: 1\n",
      "<class 'int'>\n",
      "<class 'int'>\n"
     ]
    }
   ],
   "source": [
    "l=5//2#// for integer\n",
    "a=5%2\n",
    "e=5**2# power \n",
    "k=5>>2\n",
    "x=3\n",
    "y=5\n",
    "flag=x==y\n",
    "print(\"Flag:\",flag)\n",
    "print('K:',k)\n",
    "print(l)\n",
    "print(a)\n",
    "print(e)\n",
    "print(\"binary:\",7&9)#and operator \n",
    "print(type(a))\n",
    "print(type(l))"
   ]
  },
  {
   "cell_type": "code",
   "execution_count": 27,
   "id": "e18d68cd",
   "metadata": {},
   "outputs": [
    {
     "name": "stdout",
     "output_type": "stream",
     "text": [
      "True\n",
      "False\n"
     ]
    }
   ],
   "source": [
    "x=[10,20,30,40]\n",
    "flag1= 10\n",
    "flag2=25\n",
    "verify1= flag1 in x\n",
    "verify2=flag2 in x # to verify the data present in the list \n",
    "print(verify1)\n",
    "print(verify2)"
   ]
  },
  {
   "cell_type": "code",
   "execution_count": 42,
   "id": "fc5499f1",
   "metadata": {},
   "outputs": [
    {
     "name": "stdout",
     "output_type": "stream",
     "text": [
      "[1, 3, 3, [12, 'workshop'], False, 'No']\n",
      "['c', 'c++', 'java', 'plsql', 'R#']\n",
      "['bhanu', 21, '22-01-2002']\n",
      "[1, 1, 'workshop1']\n",
      "After append: ['bhanu', 21, '22-01-2002', 45]\n",
      "c\n",
      "bhanu\n",
      "21\n",
      "22-01-2002\n",
      "45\n"
     ]
    }
   ],
   "source": [
    "#lists \n",
    "languages=['c','c++','java','plsql','R#'] # homogenous\n",
    "mixed =['bhanu',21,'22-01-2002']  # non homogenous allows duplicates\n",
    "duplicate=[1,1,'workshop1']\n",
    "combination=[1,3,3,[12,'workshop'],False,'No']\n",
    "print(combination)\n",
    "print(languages)\n",
    "print(mixed)\n",
    "print(duplicate)\n",
    "mixed.append(45)\n",
    "print(\"After append:\",mixed)\n",
    "# index position start from zero \n",
    "print(languages[0])\n",
    "for x in mixed:\n",
    " print(x)\n",
    "\n",
    "# deelete of data in list \n"
   ]
  },
  {
   "cell_type": "code",
   "execution_count": 45,
   "id": "34ddac1a",
   "metadata": {},
   "outputs": [
    {
     "name": "stdout",
     "output_type": "stream",
     "text": [
      "[1, 2, 3, 4, 45]\n",
      "[4, 45]\n",
      "slice: [45]\n"
     ]
    }
   ],
   "source": [
    "l1=[1,2,3,4,45]\n",
    "print(l1)\n",
    "del l1[:3]\n",
    "print(l1)\n",
    "#slice of the list\n",
    "print(\"slice:\",l1[1:3])"
   ]
  },
  {
   "cell_type": "code",
   "execution_count": 51,
   "id": "1943ca93",
   "metadata": {},
   "outputs": [
    {
     "name": "stdout",
     "output_type": "stream",
     "text": [
      "[]\n",
      "[[10, 'frank']]\n"
     ]
    }
   ],
   "source": [
    "l1=[]\n",
    "print(l1)\n",
    "l1.append([10,'frank'])\n",
    "print(l1)"
   ]
  },
  {
   "cell_type": "code",
   "execution_count": 55,
   "id": "d9cad4b8",
   "metadata": {},
   "outputs": [
    {
     "name": "stdout",
     "output_type": "stream",
     "text": [
      "[1]\n",
      "[1, 9]\n",
      "[1, 9, 36]\n",
      "[1, 9, 36, 64]\n",
      "[1, 9, 36, 64, 81]\n",
      "[1, 9, 36, 64, 81, 144]\n",
      "[1, 9, 36, 64, 81, 144, 625]\n"
     ]
    }
   ],
   "source": [
    "list1=[1,3,6,8,9,12,25]\n",
    "square=[]\n",
    "for x in list1:\n",
    "    square.append(x**2)\n",
    "    print(square)"
   ]
  },
  {
   "cell_type": "code",
   "execution_count": 56,
   "id": "332b4fbe",
   "metadata": {},
   "outputs": [
    {
     "data": {
      "text/plain": [
       "[4, 16, 25, 36, 49]"
      ]
     },
     "execution_count": 56,
     "metadata": {},
     "output_type": "execute_result"
    }
   ],
   "source": [
    "list1=[2,4,5,6,7]\n",
    "square=[x**2 for x in list1]# list compreshion\n",
    "square\n"
   ]
  },
  {
   "cell_type": "code",
   "execution_count": 58,
   "id": "8b440e5a",
   "metadata": {},
   "outputs": [
    {
     "name": "stdout",
     "output_type": "stream",
     "text": [
      "4\n",
      "8\n",
      "wsws\n",
      "20\n"
     ]
    }
   ],
   "source": [
    "list1=[2,4,'ws',10]\n",
    "for a in list1:\n",
    "    print(a*2)"
   ]
  },
  {
   "cell_type": "code",
   "execution_count": 61,
   "id": "210769b6",
   "metadata": {},
   "outputs": [
    {
     "data": {
      "text/plain": [
       "[100, 400, 900, 1600, 2500]"
      ]
     },
     "execution_count": 61,
     "metadata": {},
     "output_type": "execute_result"
    }
   ],
   "source": [
    "list1=[10,20,'ws',30,40,50]\n",
    "\n",
    "square=[x**2 for x in list1 if type(x) in [int,float]]\n",
    "square"
   ]
  },
  {
   "cell_type": "code",
   "execution_count": 73,
   "id": "c7b070b0",
   "metadata": {},
   "outputs": [
    {
     "name": "stdout",
     "output_type": "stream",
     "text": [
      "[0, 1, 2, 3, 4, 5, 6, 7, 8, 9]\n",
      "Length: 10\n"
     ]
    }
   ],
   "source": [
    "l1=list(range(10)) # range\n",
    "print(l1)\n",
    "print(\"Length:\",len(l1))\n",
    "# assignment 1  use list comphresion to create a  list of\n",
    "#--cubes of even number upto 20\n"
   ]
  },
  {
   "cell_type": "code",
   "execution_count": 76,
   "id": "68e05bc9",
   "metadata": {},
   "outputs": [
    {
     "name": "stdout",
     "output_type": "stream",
     "text": [
      "[0, 1, 8, 27, 64, 125, 216, 343, 512, 729, 1000, 1331, 1728, 2197, 2744, 3375, 4096, 4913, 5832, 6859]\n"
     ]
    }
   ],
   "source": [
    "cubes_of_evens = [num**3 for num in range(20)]\n",
    "print(cubes_of_evens)"
   ]
  },
  {
   "cell_type": "code",
   "execution_count": 80,
   "id": "548aa1f6",
   "metadata": {},
   "outputs": [
    {
     "name": "stdout",
     "output_type": "stream",
     "text": [
      "['Red', 'black', 'blue', 'Green']\n",
      "['Red', 'black']\n",
      "['black', 'blue', 'Green']\n",
      "['blue', 'Green']\n"
     ]
    }
   ],
   "source": [
    "#tuple is in  muttable \n",
    "colors=['Red','black','blue','Green']\n",
    "print(colors)\n",
    "print(colors[:2])\n",
    "print(colors[1:])\n",
    "print(colors[2:4])"
   ]
  },
  {
   "cell_type": "markdown",
   "id": "37f45af6",
   "metadata": {},
   "source": [
    "dict1={} duplicate c\n",
    "key can be alloweded but no value is added \n"
   ]
  },
  {
   "cell_type": "markdown",
   "id": "69a7bffb",
   "metadata": {},
   "source": [
    "\n",
    "\n",
    "using the set values of the phyton \n"
   ]
  },
  {
   "cell_type": "code",
   "execution_count": 90,
   "id": "7d63cc2e",
   "metadata": {},
   "outputs": [
    {
     "name": "stdout",
     "output_type": "stream",
     "text": [
      "{'apple', 'grapes', 'dragon', 'Guava'}\n"
     ]
    }
   ],
   "source": [
    "tset={'apple','Guava','grapes','dragon'}\n",
    "print(tset)"
   ]
  },
  {
   "cell_type": "code",
   "execution_count": 95,
   "id": "2dcfd362",
   "metadata": {},
   "outputs": [
    {
     "name": "stdout",
     "output_type": "stream",
     "text": [
      "{'apple', True, 'dragon', 'cherry'}\n",
      "{True, 'dragon', 'cherry', 'apple', 'Orange'}\n",
      "{'dragon', 'cherry', 'apple', 'Orange'}\n"
     ]
    }
   ],
   "source": [
    "tset2={'apple','dragon','cherry',True,1,1}\n",
    "print(tset2)\n",
    "tset2.add('Orange')\n",
    "print(tset2)\n",
    "tset2.remove(True)\n",
    "print(tset2)\n",
    "# duplicates wont taken "
   ]
  },
  {
   "cell_type": "code",
   "execution_count": 1,
   "id": "817227a2",
   "metadata": {},
   "outputs": [],
   "source": [
    "import pandas as ps\n"
   ]
  }
 ],
 "metadata": {
  "kernelspec": {
   "display_name": "Python 3 (ipykernel)",
   "language": "python",
   "name": "python3"
  },
  "language_info": {
   "codemirror_mode": {
    "name": "ipython",
    "version": 3
   },
   "file_extension": ".py",
   "mimetype": "text/x-python",
   "name": "python",
   "nbconvert_exporter": "python",
   "pygments_lexer": "ipython3",
   "version": "3.10.9"
  }
 },
 "nbformat": 4,
 "nbformat_minor": 5
}

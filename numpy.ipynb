{
 "cells": [
  {
   "cell_type": "code",
   "execution_count": 6,
   "id": "2d8b6cc7",
   "metadata": {},
   "outputs": [
    {
     "name": "stdout",
     "output_type": "stream",
     "text": [
      "[10 20 30 40 50]\n",
      "<class 'numpy.ndarray'>\n"
     ]
    }
   ],
   "source": [
    "#importing to be done for numpy package\n",
    "import numpy as np \n",
    "arr= np.array([10,20,30,40,50])\n",
    "print(arr)\n",
    "print(type(arr))"
   ]
  },
  {
   "cell_type": "code",
   "execution_count": null,
   "id": "142282c4",
   "metadata": {},
   "outputs": [],
   "source": []
  },
  {
   "cell_type": "code",
   "execution_count": 16,
   "id": "7b1ba4ef",
   "metadata": {},
   "outputs": [
    {
     "name": "stdout",
     "output_type": "stream",
     "text": [
      "[1272   21   70  168    0]\n",
      "<class 'numpy.ndarray'>\n",
      "1\n"
     ]
    }
   ],
   "source": [
    "arr= np.array([1272,21,70,168,0])\n",
    "print(arr)\n",
    "print(type(arr))\n",
    "print(arr.ndim)"
   ]
  },
  {
   "cell_type": "code",
   "execution_count": 15,
   "id": "d14bd760",
   "metadata": {},
   "outputs": [
    {
     "name": "stdout",
     "output_type": "stream",
     "text": [
      "42\n",
      "0\n"
     ]
    }
   ],
   "source": [
    "arr=np.array(42)\n",
    "print(arr)\n",
    "# 0 dimensional array \n",
    "print(arr.ndim)"
   ]
  },
  {
   "cell_type": "code",
   "execution_count": 14,
   "id": "b321d8eb",
   "metadata": {},
   "outputs": [
    {
     "name": "stdout",
     "output_type": "stream",
     "text": [
      "[[10 20 30 40 50]\n",
      " [11 21 31 41 51]]\n",
      "2\n"
     ]
    }
   ],
   "source": [
    "arr= np.array([[10,20,30,40,50],[11,21,31,41,51]])\n",
    "print(arr)\n",
    "print(arr.ndim)"
   ]
  },
  {
   "cell_type": "code",
   "execution_count": 17,
   "id": "4ddc9414",
   "metadata": {},
   "outputs": [
    {
     "name": "stdout",
     "output_type": "stream",
     "text": [
      "[[10 20 30 40 50]\n",
      " [11 21 31 41 51]\n",
      " [12 22 32 42 52]]\n",
      "2\n"
     ]
    }
   ],
   "source": [
    "arr= np.array([[10,20,30,40,50],[11,21,31,41,51],[12,22,32,42,52]])\n",
    "print(arr)\n",
    "print(arr.ndim)\n"
   ]
  },
  {
   "cell_type": "code",
   "execution_count": 24,
   "id": "a4c42e0d",
   "metadata": {},
   "outputs": [
    {
     "name": "stdout",
     "output_type": "stream",
     "text": [
      "4\n",
      "[[11 21 31 41 51]]\n",
      "[[10 20 30 40 50]\n",
      " [12 22 32 42 52]]\n"
     ]
    }
   ],
   "source": [
    "a=np.array(42)\n",
    "b= np.array([[10,20,30,40,50],[11,21,31,41,51]])\n",
    "c= np.array([[10,20,30,40,50],[11,21,31,41,51],[12,22,32,42,52]])\n",
    "print(a.itemsize)\n",
    "print(c[1:3:2])\n",
    "print(c[::2])"
   ]
  },
  {
   "cell_type": "code",
   "execution_count": 33,
   "id": "03869e6c",
   "metadata": {},
   "outputs": [
    {
     "name": "stdout",
     "output_type": "stream",
     "text": [
      "[[1 2 3]\n",
      " [4 5 6]\n",
      " [7 8 9]]\n",
      "for loop values\n",
      "[1 2 3]\n",
      "[4 5 6]\n",
      "[7 8 9]\n"
     ]
    }
   ],
   "source": [
    "arr=np.array([1,2,3,4,5,6,7,8,9])\n",
    "arr=arr.reshape(3,3)\n",
    "print(arr)\n",
    "print('for loop values')\n",
    "for x in arr:\n",
    " print(x)"
   ]
  },
  {
   "cell_type": "code",
   "execution_count": 34,
   "id": "a48f0188",
   "metadata": {},
   "outputs": [
    {
     "name": "stdout",
     "output_type": "stream",
     "text": [
      "<class 'numpy.ndarray'>\n"
     ]
    }
   ],
   "source": [
    "arr=np.array([1,3,3.5])\n",
    "print(type(arr))"
   ]
  },
  {
   "cell_type": "code",
   "execution_count": 32,
   "id": "72cdb4d1",
   "metadata": {},
   "outputs": [
    {
     "name": "stdout",
     "output_type": "stream",
     "text": [
      "1\n",
      "2\n",
      "3\n",
      "4\n",
      "5\n",
      "6\n"
     ]
    }
   ],
   "source": [
    "arr=np.array([[1,2,3],[4,5,6]])\n",
    "for x in arr:\n",
    "    for y in x:\n",
    "        print(y)"
   ]
  },
  {
   "cell_type": "raw",
   "id": "55311b8d",
   "metadata": {},
   "source": []
  },
  {
   "cell_type": "code",
   "execution_count": 37,
   "id": "27b4ea19",
   "metadata": {},
   "outputs": [
    {
     "name": "stdout",
     "output_type": "stream",
     "text": [
      "[[ 1  2  3]\n",
      " [11 12 13]\n",
      " [ 4  5  6]\n",
      " [14 15 16]]\n"
     ]
    }
   ],
   "source": [
    "arr=np.array([[1,2,3],[11,12,13]])\n",
    "arr1=np.array([[4,5,6],[14,15,16]])\n",
    "arr2=np.concatenate((arr,arr1))\n",
    "print(arr2)\n",
    "               "
   ]
  },
  {
   "cell_type": "code",
   "execution_count": null,
   "id": "139dcd0f",
   "metadata": {},
   "outputs": [],
   "source": [
    "arr=np.array([[1,2,3],[11,12,13]])\n",
    "arr1=np.array([[4,5,6],[14,15,16]]\n",
    "arr2=arr.dstack((arr,arr1))]\n",
    "              print(arr2)"
   ]
  },
  {
   "cell_type": "code",
   "execution_count": 38,
   "id": "614227e9",
   "metadata": {},
   "outputs": [
    {
     "name": "stdout",
     "output_type": "stream",
     "text": [
      "(array([0, 2, 4, 6, 8], dtype=int64),)\n"
     ]
    }
   ],
   "source": [
    "arr=np.array([1,2,3,4,5,6,7,8,9])\n",
    "x=np.where(arr%2==1)\n",
    "print(x)"
   ]
  },
  {
   "cell_type": "code",
   "execution_count": 39,
   "id": "dec71f9a",
   "metadata": {},
   "outputs": [
    {
     "name": "stdout",
     "output_type": "stream",
     "text": [
      "(array([1, 3, 5, 7], dtype=int64),)\n"
     ]
    }
   ],
   "source": [
    "arr=np.array([1,2,3,4,5,6,7,8,9])\n",
    "x=np.where(arr%2==0)\n",
    "print(x)"
   ]
  },
  {
   "cell_type": "code",
   "execution_count": 40,
   "id": "520d9cec",
   "metadata": {},
   "outputs": [
    {
     "name": "stdout",
     "output_type": "stream",
     "text": [
      "[False, False, False, False, True, True, True, True, True]\n",
      "[5 6 7 8 9]\n"
     ]
    }
   ],
   "source": [
    "arr=np.array([1,2,3,4,5,6,7,8,9])\n",
    "filter_arr =[]\n",
    "for element in arr:\n",
    "    if element>4:\n",
    "       filter_arr.append(True)\n",
    "    else:\n",
    "        filter_arr.append(False)\n",
    "newarr=arr[filter_arr]\n",
    "print(filter_arr)\n",
    "print(newarr)\n",
    "        "
   ]
  },
  {
   "cell_type": "code",
   "execution_count": 41,
   "id": "87d62b4c",
   "metadata": {},
   "outputs": [
    {
     "name": "stdout",
     "output_type": "stream",
     "text": [
      "[5 6 7 8 9]\n"
     ]
    }
   ],
   "source": [
    "arr=np.array([1,2,3,4,5,6,7,8,9])\n",
    "filter_arr=arr>4\n",
    "newarr=arr[filter_arr]\n",
    "print(newarr)"
   ]
  },
  {
   "cell_type": "code",
   "execution_count": 77,
   "id": "6760eb43",
   "metadata": {},
   "outputs": [
    {
     "name": "stdout",
     "output_type": "stream",
     "text": [
      "71\n",
      "0.6100116214749067\n"
     ]
    }
   ],
   "source": [
    "from numpy import random \n",
    "x=random.randint(100)\n",
    "y=random.rand()\n",
    "print(x)\n",
    "print(y)"
   ]
  },
  {
   "cell_type": "code",
   "execution_count": 80,
   "id": "8170aeb5",
   "metadata": {
    "scrolled": true
   },
   "outputs": [
    {
     "name": "stdout",
     "output_type": "stream",
     "text": [
      "[28 92 24  8 14]\n",
      "[[88 94 45 35 99]\n",
      " [ 7  1 52 97 99]\n",
      " [37 22 65 63 86]]\n"
     ]
    }
   ],
   "source": [
    "x=random.randint(100, size=(5))\n",
    "z=random.randint(100, size=(3,5))\n",
    "print(x)\n",
    "print(z)"
   ]
  },
  {
   "cell_type": "code",
   "execution_count": null,
   "id": "9eb81985",
   "metadata": {},
   "outputs": [],
   "source": []
  },
  {
   "cell_type": "code",
   "execution_count": 81,
   "id": "1abc73d5",
   "metadata": {},
   "outputs": [
    {
     "name": "stdout",
     "output_type": "stream",
     "text": [
      "smaller\n"
     ]
    }
   ],
   "source": [
    "a=20\n",
    "b=10\n",
    "if b>a :\n",
    "    print('b is greater than a')\n",
    "elif a==b:\n",
    "    print('a and b is equal')\n",
    "else:\n",
    "    print('smaller')\n",
    " "
   ]
  },
  {
   "cell_type": "code",
   "execution_count": null,
   "id": "fad7946c",
   "metadata": {},
   "outputs": [],
   "source": [
    "i=1\n",
    "while i>5:\n",
    "    i+1\n",
    "print(i)"
   ]
  },
  {
   "cell_type": "code",
   "execution_count": null,
   "id": "343155b1",
   "metadata": {},
   "outputs": [],
   "source": [
    "def my_fun(fruits):\n",
    "    for x in fruits:\n",
    "        print(x)\n"
   ]
  },
  {
   "cell_type": "code",
   "execution_count": null,
   "id": "68a6ccb4",
   "metadata": {},
   "outputs": [],
   "source": [
    "fruits=['apple','grapes','cherry']\n",
    "my_fun(fruits)"
   ]
  },
  {
   "cell_type": "code",
   "execution_count": null,
   "id": "3b64f164",
   "metadata": {},
   "outputs": [],
   "source": []
  }
 ],
 "metadata": {
  "kernelspec": {
   "display_name": "Python 3 (ipykernel)",
   "language": "python",
   "name": "python3"
  },
  "language_info": {
   "codemirror_mode": {
    "name": "ipython",
    "version": 3
   },
   "file_extension": ".py",
   "mimetype": "text/x-python",
   "name": "python",
   "nbconvert_exporter": "python",
   "pygments_lexer": "ipython3",
   "version": "3.10.9"
  }
 },
 "nbformat": 4,
 "nbformat_minor": 5
}

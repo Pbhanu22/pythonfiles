{
 "cells": [
  {
   "cell_type": "code",
   "execution_count": 7,
   "id": "3f8652d7",
   "metadata": {},
   "outputs": [
    {
     "data": {
      "text/plain": [
       "24"
      ]
     },
     "execution_count": 7,
     "metadata": {},
     "output_type": "execute_result"
    }
   ],
   "source": [
    "import math \n",
    "math.factorial(4)"
   ]
  },
  {
   "cell_type": "code",
   "execution_count": 24,
   "id": "a360d5ee",
   "metadata": {},
   "outputs": [
    {
     "name": "stdout",
     "output_type": "stream",
     "text": [
      "Mean value: 53.2\n",
      "Harmonic Mean value: 49.907896487267365\n",
      "GeometricMean value: 51.558960794604765\n",
      "Mode value: 72\n",
      "Median value: 53\n",
      "Standard deviation: 14.549914089093447\n",
      " Population Standard deviation: 13.013838787997953\n",
      "Variance: 211.7\n",
      " population Variance: 169.36\n",
      "Covariance: -230.0\n"
     ]
    }
   ],
   "source": [
    "import statistics\n",
    "numbers = [72, 62, 53, 44, 35]\n",
    "y=[10,20,30,40,50]\n",
    "mean_value = statistics.mean(numbers)\n",
    "print(\"Mean value:\",mean_value)\n",
    "gmean_value = statistics.geometric_mean(numbers)\n",
    "hmean_value = statistics.harmonic_mean(numbers)\n",
    "print(\"Harmonic Mean value:\",hmean_value)\n",
    "print(\"GeometricMean value:\",gmean_value)\n",
    "mode_value=statistics.mode(numbers)\n",
    "print(\"Mode value:\",mode_value)\n",
    "median_value = statistics.median(numbers)\n",
    "print(\"Median value:\",median_value) \n",
    "stdev_value = statistics.stdev(numbers)\n",
    "print(\"Standard deviation:\",stdev_value)\n",
    "pstdev_value = statistics.pstdev(numbers)\n",
    "print(\" Population Standard deviation:\",pstdev_value)\n",
    "variance_value= statistics.variance(numbers)\n",
    "print(\"Variance:\",variance_value)\n",
    "pvariance_value= statistics.pvariance(numbers)\n",
    "print(\" population Variance:\",pvariance_value)\n",
    "covar= statistics.covariance(numbers,y)\n",
    "print(\"Covariance:\",covar)"
   ]
  }
 ],
 "metadata": {
  "kernelspec": {
   "display_name": "Python 3 (ipykernel)",
   "language": "python",
   "name": "python3"
  },
  "language_info": {
   "codemirror_mode": {
    "name": "ipython",
    "version": 3
   },
   "file_extension": ".py",
   "mimetype": "text/x-python",
   "name": "python",
   "nbconvert_exporter": "python",
   "pygments_lexer": "ipython3",
   "version": "3.10.9"
  }
 },
 "nbformat": 4,
 "nbformat_minor": 5
}

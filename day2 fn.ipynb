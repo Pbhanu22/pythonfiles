{
 "cells": [
  {
   "cell_type": "markdown",
   "id": "b56800a0",
   "metadata": {},
   "source": [
    "#import pandas as pd for the pandas usage \n"
   ]
  },
  {
   "cell_type": "markdown",
   "id": "a6a30bce",
   "metadata": {},
   "source": [
    "panel data- pandas (which is refers to multidimensional structured datasets) to analysis of the data data manupulation and analysis tool as pandas used  \n",
    "it has a powerful tools of data structure \n",
    "datacleaning ,analysis,exploration \n",
    "it draw the insights and create algorithms \n",
    "messy data is cleaned and used for advanced study and anylisis\n",
    "pandas support various input file types as csv files,sqql databases or excel sheets and transform and clean the data using the bulit in methods and functions \n",
    "once the data is clean,pandas makes it easyy to analyze the data using statistical methods pandas also provides tools for data visualisation\n"
   ]
  },
  {
   "cell_type": "code",
   "execution_count": 4,
   "id": "ada5d45c",
   "metadata": {},
   "outputs": [],
   "source": [
    "import pandas as pd "
   ]
  },
  {
   "cell_type": "markdown",
   "id": "318ebaf6",
   "metadata": {},
   "source": [
    "series data structure \n",
    "dataframe \n",
    "panel data structure "
   ]
  },
  {
   "cell_type": "code",
   "execution_count": 10,
   "id": "9dddb497",
   "metadata": {},
   "outputs": [
    {
     "name": "stdout",
     "output_type": "stream",
     "text": [
      "Series([], dtype: float64)\n"
     ]
    },
    {
     "name": "stderr",
     "output_type": "stream",
     "text": [
      "C:\\Users\\BHANU TEJA\\AppData\\Local\\Temp\\ipykernel_1064\\4145515921.py:2: FutureWarning: The default dtype for empty Series will be 'object' instead of 'float64' in a future version. Specify a dtype explicitly to silence this warning.\n",
      "  x=pd.Series()\n"
     ]
    }
   ],
   "source": [
    "#<series object>=pandas.serires()\n",
    "x=pd.Series()\n",
    "print(x)"
   ]
  },
  {
   "cell_type": "markdown",
   "id": "d65b8f44",
   "metadata": {},
   "source": [
    "creating series using inputs \n",
    "#Array \n",
    "#Dictionary and scalar value \n",
    "data alligned as the rows and columns \n",
    "Data frame and series are of similar in that many operations  that you can do with other such as filling null values and calucating the null values "
   ]
  },
  {
   "cell_type": "markdown",
   "id": "8d1e66d7",
   "metadata": {},
   "source": [
    "series is a 1-D labeled array capable of holding any data type of integers \n",
    "syntax \n",
    ">>s=pd.series("
   ]
  },
  {
   "cell_type": "code",
   "execution_count": 18,
   "id": "f3197fb6",
   "metadata": {},
   "outputs": [
    {
     "name": "stdout",
     "output_type": "stream",
     "text": [
      "<class 'pandas.core.series.Series'>\n",
      "0    10\n",
      "1    20\n",
      "2    30\n",
      "3    40\n",
      "4    50\n",
      "5    60\n",
      "6    70\n",
      "7    80\n",
      "dtype: int64\n"
     ]
    }
   ],
   "source": [
    "list=[10,20,30,40,50,60,70,80]\n",
    "x=pd.Series(list)\n",
    "print(type(x))\n",
    "print(x)"
   ]
  },
  {
   "cell_type": "code",
   "execution_count": 17,
   "id": "8157eae1",
   "metadata": {},
   "outputs": [
    {
     "data": {
      "text/plain": [
       "RangeIndex(start=0, stop=8, step=1)"
      ]
     },
     "execution_count": 17,
     "metadata": {},
     "output_type": "execute_result"
    }
   ],
   "source": [
    "x.index"
   ]
  },
  {
   "cell_type": "code",
   "execution_count": 19,
   "id": "c415b61a",
   "metadata": {},
   "outputs": [
    {
     "data": {
      "text/plain": [
       "array([10, 20, 30, 40, 50, 60, 70, 80], dtype=int64)"
      ]
     },
     "execution_count": 19,
     "metadata": {},
     "output_type": "execute_result"
    }
   ],
   "source": [
    "x.values"
   ]
  },
  {
   "cell_type": "code",
   "execution_count": 21,
   "id": "c30f95e1",
   "metadata": {},
   "outputs": [],
   "source": [
    "import numpy as np "
   ]
  },
  {
   "cell_type": "code",
   "execution_count": 28,
   "id": "1482e6df",
   "metadata": {},
   "outputs": [
    {
     "name": "stdout",
     "output_type": "stream",
     "text": [
      "<class 'numpy.ndarray'>\n",
      "[10 20 30 40 50 60]\n",
      "<class 'pandas.core.series.Series'>\n",
      "0    10\n",
      "1    20\n",
      "2    30\n",
      "3    40\n",
      "4    50\n",
      "5    60\n",
      "dtype: int32\n"
     ]
    },
    {
     "data": {
      "text/plain": [
       "array([10, 20, 30, 40, 50, 60])"
      ]
     },
     "execution_count": 28,
     "metadata": {},
     "output_type": "execute_result"
    }
   ],
   "source": [
    "a=np.array([10,20,30,40,50,60])\n",
    "print(type(a))\n",
    "print(a)\n",
    "x2=pd.Series(a)\n",
    "print(type(x))\n",
    "print(x2)\n",
    "x2.values"
   ]
  },
  {
   "cell_type": "code",
   "execution_count": 29,
   "id": "525a05a8",
   "metadata": {},
   "outputs": [
    {
     "data": {
      "text/plain": [
       "RangeIndex(start=0, stop=6, step=1)"
      ]
     },
     "execution_count": 29,
     "metadata": {},
     "output_type": "execute_result"
    }
   ],
   "source": [
    "x2.index"
   ]
  },
  {
   "cell_type": "code",
   "execution_count": 32,
   "id": "702940c4",
   "metadata": {},
   "outputs": [
    {
     "name": "stdout",
     "output_type": "stream",
     "text": [
      "{1: 'Bhanu', 2: 'chakri', 3: 'Charan'}\n",
      "['Bhanu' 'chakri' 'Charan']\n",
      "1     Bhanu\n",
      "2    chakri\n",
      "3    Charan\n",
      "dtype: object\n",
      "Bhanu\n"
     ]
    }
   ],
   "source": [
    "dict={1:'Bhanu',2:'chakri',3:'Charan'}\n",
    "print(dict)\n",
    "x2=pd.Series(dict)\n",
    "#print(type(x2))\n",
    "print(x2.values)\n",
    "print(x2)\n",
    "x2.index\n",
    "print(x2[1])"
   ]
  },
  {
   "cell_type": "code",
   "execution_count": 39,
   "id": "62c77461",
   "metadata": {},
   "outputs": [
    {
     "name": "stdout",
     "output_type": "stream",
     "text": [
      "{'Name': ['Bhanu', 'charan', 'chakri', 'Anil', 'Mohith'], 'Age': [21, 21, 20, 21, 20], 'City': ['warangal', 'Mahubad', 'Bhupalpalli', 'Hyderabad', 'suryapet']}\n",
      "     Name  Age         City\n",
      "0   Bhanu   21     warangal\n",
      "1  charan   21      Mahubad\n",
      "2  chakri   20  Bhupalpalli\n",
      "3    Anil   21    Hyderabad\n",
      "4  Mohith   20     suryapet\n"
     ]
    }
   ],
   "source": [
    "d={\n",
    "    \"Name\":['Bhanu','charan','chakri','Anil','Mohith'],\n",
    "    \"Age\":[21,21,20,21,20],\n",
    "    \"City\":['warangal','Mahubad','Bhupalpalli','Hyderabad','suryapet'] }\n",
    "print(d)\n",
    "df=pd.DataFrame(d)\n",
    "print(df)"
   ]
  },
  {
   "cell_type": "code",
   "execution_count": 42,
   "id": "a2a14145",
   "metadata": {},
   "outputs": [
    {
     "name": "stdout",
     "output_type": "stream",
     "text": [
      "          Name  Age         City\n",
      "First    Bhanu   21     warangal\n",
      "Second  charan   21      Mahubad\n",
      "Third   chakri   20  Bhupalpalli\n",
      "Fourth    Anil   21    Hyderabad\n",
      "Fifth   Mohith   20     suryapet\n"
     ]
    }
   ],
   "source": [
    "il=['First','Second','Third','Fourth','Fifth']\n",
    "df=pd.DataFrame(data=d,index=il)\n",
    "print(df)"
   ]
  },
  {
   "cell_type": "code",
   "execution_count": 45,
   "id": "eafa8f66",
   "metadata": {},
   "outputs": [
    {
     "name": "stdout",
     "output_type": "stream",
     "text": [
      "Name       Bhanu\n",
      "Age           21\n",
      "City    warangal\n",
      "Name: First, dtype: object\n"
     ]
    }
   ],
   "source": [
    "print(df.loc['First'])"
   ]
  },
  {
   "cell_type": "code",
   "execution_count": 48,
   "id": "3496c029",
   "metadata": {},
   "outputs": [
    {
     "name": "stdout",
     "output_type": "stream",
     "text": [
      "         Name  Age         City\n",
      "First   Bhanu   21     warangal\n",
      "Third  chakri   20  Bhupalpalli\n"
     ]
    }
   ],
   "source": [
    "print(df.loc[['First','Third']])"
   ]
  },
  {
   "cell_type": "code",
   "execution_count": 53,
   "id": "b613c8b3",
   "metadata": {},
   "outputs": [],
   "source": [
    "df2=pd.read_csv('stdmarks.csv')"
   ]
  },
  {
   "cell_type": "code",
   "execution_count": 58,
   "id": "deba57e1",
   "metadata": {},
   "outputs": [
    {
     "name": "stdout",
     "output_type": "stream",
     "text": [
      "        SNO Gender         DOB  Maths  Physics  Chemistry  English  Biology  \\\n",
      "0      John      M  05-04-1988     55       45       56.0       87       21   \n",
      "1    Suresh      M  04-05-1987     75       55        NaN       64       90   \n",
      "2    Ramesh      M  25-05-1989     25       54       89.0       76       95   \n",
      "3   Jessica      F  12-08-1990     78       55       86.0       63       54   \n",
      "4  Jennifer      F  02-09-1989     58       96       78.0       46       96   \n",
      "5      John      M  05-04-1988     55       45       56.0       87       21   \n",
      "6    Suresh      M  04-05-1987     75       55        NaN       64       90   \n",
      "7    Ramesh      M  25-05-1989     25       54       89.0       76       95   \n",
      "8   Jessica      F  12-08-1990     78       55       86.0       63       54   \n",
      "9  Jennifer      F  02-09-1989     58       96       78.0       46       96   \n",
      "\n",
      "   Economics  History  Civics  \n",
      "0         52       89      65  \n",
      "1         61       58       2  \n",
      "2         87       56      74  \n",
      "3         89       75      45  \n",
      "4         77       83      53  \n",
      "5         52       89      65  \n",
      "6         61       58       2  \n",
      "7         87       56      74  \n",
      "8         89       75      45  \n",
      "9         77       83      53  \n"
     ]
    }
   ],
   "source": [
    "print(df2.head(10))\n",
    "\n"
   ]
  },
  {
   "cell_type": "code",
   "execution_count": 61,
   "id": "4a5944c1",
   "metadata": {},
   "outputs": [
    {
     "name": "stdout",
     "output_type": "stream",
     "text": [
      "         SNO Gender         DOB  Maths  Physics  Chemistry  English  Biology  \\\n",
      "25      John      M  05-04-1988     55       45       56.0       87       21   \n",
      "26    Suresh      M  04-05-1987     75       55        NaN       64       90   \n",
      "27    Ramesh      M  25-05-1989     25       54       89.0       76       95   \n",
      "28   Jessica      F  12-08-1990     78       55       86.0       63       54   \n",
      "29  Jennifer      F  02-09-1989     58       96       78.0       46       96   \n",
      "30      John      M  05-04-1988     55       45       56.0       87       21   \n",
      "31    Suresh      M  04-05-1987     75       55        NaN       64       90   \n",
      "32    Ramesh      M  25-05-1989     25       54       89.0       76       95   \n",
      "33   Jessica      F  12-08-1990     78       55       86.0       63       54   \n",
      "34  Jennifer      F  02-09-1989     58       96       78.0       46       96   \n",
      "\n",
      "    Economics  History  Civics  \n",
      "25         52       89      65  \n",
      "26         61       58       2  \n",
      "27         87       56      74  \n",
      "28         89       75      45  \n",
      "29         77       83      53  \n",
      "30         52       89      65  \n",
      "31         61       58       2  \n",
      "32         87       56      74  \n",
      "33         89       75      45  \n",
      "34         77       83      53  \n"
     ]
    }
   ],
   "source": [
    "print(df2.tail(10))"
   ]
  },
  {
   "cell_type": "code",
   "execution_count": 63,
   "id": "9fff1a8c",
   "metadata": {},
   "outputs": [
    {
     "name": "stdout",
     "output_type": "stream",
     "text": [
      "0     55\n",
      "1     75\n",
      "2     25\n",
      "3     78\n",
      "4     58\n",
      "5     55\n",
      "6     75\n",
      "7     25\n",
      "8     78\n",
      "9     58\n",
      "10    55\n",
      "11    75\n",
      "12    25\n",
      "13    78\n",
      "14    58\n",
      "15    55\n",
      "16    75\n",
      "17    25\n",
      "18    78\n",
      "19    58\n",
      "20    55\n",
      "21    75\n",
      "22    25\n",
      "23    78\n",
      "24    58\n",
      "25    55\n",
      "26    75\n",
      "27    25\n",
      "28    78\n",
      "29    58\n",
      "30    55\n",
      "31    75\n",
      "32    25\n",
      "33    78\n",
      "34    58\n",
      "Name: Maths, dtype: int64\n"
     ]
    }
   ],
   "source": [
    "#shape \n",
    "df2.shape\n",
    "print(df2['Maths'])"
   ]
  },
  {
   "cell_type": "code",
   "execution_count": 64,
   "id": "0b8984ac",
   "metadata": {},
   "outputs": [
    {
     "name": "stdout",
     "output_type": "stream",
     "text": [
      "0      True\n",
      "1      True\n",
      "2     False\n",
      "3      True\n",
      "4      True\n",
      "5      True\n",
      "6      True\n",
      "7     False\n",
      "8      True\n",
      "9      True\n",
      "10     True\n",
      "11     True\n",
      "12    False\n",
      "13     True\n",
      "14     True\n",
      "15     True\n",
      "16     True\n",
      "17    False\n",
      "18     True\n",
      "19     True\n",
      "20     True\n",
      "21     True\n",
      "22    False\n",
      "23     True\n",
      "24     True\n",
      "25     True\n",
      "26     True\n",
      "27    False\n",
      "28     True\n",
      "29     True\n",
      "30     True\n",
      "31     True\n",
      "32    False\n",
      "33     True\n",
      "34     True\n",
      "Name: Maths, dtype: bool\n"
     ]
    }
   ],
   "source": [
    "# filter rows on condition \n",
    "print(df2['Maths']>=50)"
   ]
  },
  {
   "cell_type": "code",
   "execution_count": null,
   "id": "d48810f9",
   "metadata": {},
   "outputs": [],
   "source": []
  },
  {
   "cell_type": "code",
   "execution_count": 69,
   "id": "a031de9c",
   "metadata": {},
   "outputs": [
    {
     "name": "stdout",
     "output_type": "stream",
     "text": [
      "         SNO Gender         DOB  Maths  Physics  Chemistry  English  Biology  \\\n",
      "0       John      M  05-04-1988     55       45       56.0       87       21   \n",
      "3    Jessica      F  12-08-1990     78       55       86.0       63       54   \n",
      "4   Jennifer      F  02-09-1989     58       96       78.0       46       96   \n",
      "5       John      M  05-04-1988     55       45       56.0       87       21   \n",
      "8    Jessica      F  12-08-1990     78       55       86.0       63       54   \n",
      "9   Jennifer      F  02-09-1989     58       96       78.0       46       96   \n",
      "10      John      M  05-04-1988     55       45       56.0       87       21   \n",
      "13   Jessica      F  12-08-1990     78       55       86.0       63       54   \n",
      "14  Jennifer      F  02-09-1989     58       96       78.0       46       96   \n",
      "15      John      M  05-04-1988     55       45       56.0       87       21   \n",
      "18   Jessica      F  12-08-1990     78       55       86.0       63       54   \n",
      "19  Jennifer      F  02-09-1989     58       96       78.0       46       96   \n",
      "20      John      M  05-04-1988     55       45       56.0       87       21   \n",
      "23   Jessica      F  12-08-1990     78       55       86.0       63       54   \n",
      "24  Jennifer      F  02-09-1989     58       96       78.0       46       96   \n",
      "25      John      M  05-04-1988     55       45       56.0       87       21   \n",
      "28   Jessica      F  12-08-1990     78       55       86.0       63       54   \n",
      "29  Jennifer      F  02-09-1989     58       96       78.0       46       96   \n",
      "30      John      M  05-04-1988     55       45       56.0       87       21   \n",
      "33   Jessica      F  12-08-1990     78       55       86.0       63       54   \n",
      "34  Jennifer      F  02-09-1989     58       96       78.0       46       96   \n",
      "\n",
      "    Economics  History  Civics  \n",
      "0          52       89      65  \n",
      "3          89       75      45  \n",
      "4          77       83      53  \n",
      "5          52       89      65  \n",
      "8          89       75      45  \n",
      "9          77       83      53  \n",
      "10         52       89      65  \n",
      "13         89       75      45  \n",
      "14         77       83      53  \n",
      "15         52       89      65  \n",
      "18         89       75      45  \n",
      "19         77       83      53  \n",
      "20         52       89      65  \n",
      "23         89       75      45  \n",
      "24         77       83      53  \n",
      "25         52       89      65  \n",
      "28         89       75      45  \n",
      "29         77       83      53  \n",
      "30         52       89      65  \n",
      "33         89       75      45  \n",
      "34         77       83      53  \n"
     ]
    }
   ],
   "source": [
    "filcivics=df2[(df2['Civics']>20)&(df2['Maths']>50)]\n",
    "print(filcivics)"
   ]
  },
  {
   "cell_type": "code",
   "execution_count": 74,
   "id": "964df73d",
   "metadata": {},
   "outputs": [
    {
     "name": "stdout",
     "output_type": "stream",
     "text": [
      "47.8\n",
      "53.0\n",
      "78\n",
      "25\n"
     ]
    }
   ],
   "source": [
    "mean=df2['Civics'].mean()\n",
    "print(mean)\n",
    "median=df2['Civics'].median()\n",
    "print(median)\n",
    "max=df2['Maths'].max()\n",
    "print(max)\n",
    "min=df2['Maths'].min()\n",
    "print(min)"
   ]
  },
  {
   "cell_type": "code",
   "execution_count": 80,
   "id": "0969bbd2",
   "metadata": {},
   "outputs": [
    {
     "name": "stdout",
     "output_type": "stream",
     "text": [
      "Gender\n",
      "F    68.000000\n",
      "M    51.666667\n",
      "Name: Maths, dtype: float64\n",
      "Gender\n",
      "F    68.0\n",
      "M    55.0\n",
      "Name: Maths, dtype: float64\n",
      "Gender\n",
      "F    78\n",
      "M    75\n",
      "Name: Maths, dtype: int64\n",
      "Gender\n",
      "F    58\n",
      "M    25\n",
      "Name: Maths, dtype: int64\n"
     ]
    }
   ],
   "source": [
    "gf=df2.groupby('Gender')['Maths'].mean()\n",
    "print(gf)\n",
    "gf1=df2.groupby('Gender')['Maths'].median()\n",
    "print(gf1)\n",
    "gf2=df2.groupby('Gender')['Maths'].max()\n",
    "print(gf2)\n",
    "gf3=df2.groupby('Gender')['Maths'].min()\n",
    "print(gf3)"
   ]
  },
  {
   "cell_type": "code",
   "execution_count": 85,
   "id": "d790b191",
   "metadata": {},
   "outputs": [],
   "source": [
    "df2['civics100']=df2['civics']+100\n"
   ]
  },
  {
   "cell_type": "code",
   "execution_count": 86,
   "id": "73f40a79",
   "metadata": {},
   "outputs": [
    {
     "name": "stdout",
     "output_type": "stream",
     "text": [
      "         SNO Gender         DOB  Maths  Physics  Chemistry  English  Biology  \\\n",
      "0       John      M  05-04-1988     55       45       56.0       87       21   \n",
      "1     Suresh      M  04-05-1987     75       55        NaN       64       90   \n",
      "2     Ramesh      M  25-05-1989     25       54       89.0       76       95   \n",
      "3    Jessica      F  12-08-1990     78       55       86.0       63       54   \n",
      "4   Jennifer      F  02-09-1989     58       96       78.0       46       96   \n",
      "5       John      M  05-04-1988     55       45       56.0       87       21   \n",
      "6     Suresh      M  04-05-1987     75       55        NaN       64       90   \n",
      "7     Ramesh      M  25-05-1989     25       54       89.0       76       95   \n",
      "8    Jessica      F  12-08-1990     78       55       86.0       63       54   \n",
      "9   Jennifer      F  02-09-1989     58       96       78.0       46       96   \n",
      "10      John      M  05-04-1988     55       45       56.0       87       21   \n",
      "11    Suresh      M  04-05-1987     75       55        NaN       64       90   \n",
      "12    Ramesh      M  25-05-1989     25       54       89.0       76       95   \n",
      "13   Jessica      F  12-08-1990     78       55       86.0       63       54   \n",
      "14  Jennifer      F  02-09-1989     58       96       78.0       46       96   \n",
      "15      John      M  05-04-1988     55       45       56.0       87       21   \n",
      "16    Suresh      M  04-05-1987     75       55        NaN       64       90   \n",
      "17    Ramesh      M  25-05-1989     25       54       89.0       76       95   \n",
      "18   Jessica      F  12-08-1990     78       55       86.0       63       54   \n",
      "19  Jennifer      F  02-09-1989     58       96       78.0       46       96   \n",
      "20      John      M  05-04-1988     55       45       56.0       87       21   \n",
      "21    Suresh      M  04-05-1987     75       55        NaN       64       90   \n",
      "22    Ramesh      M  25-05-1989     25       54       89.0       76       95   \n",
      "23   Jessica      F  12-08-1990     78       55       86.0       63       54   \n",
      "24  Jennifer      F  02-09-1989     58       96       78.0       46       96   \n",
      "25      John      M  05-04-1988     55       45       56.0       87       21   \n",
      "26    Suresh      M  04-05-1987     75       55        NaN       64       90   \n",
      "27    Ramesh      M  25-05-1989     25       54       89.0       76       95   \n",
      "28   Jessica      F  12-08-1990     78       55       86.0       63       54   \n",
      "29  Jennifer      F  02-09-1989     58       96       78.0       46       96   \n",
      "30      John      M  05-04-1988     55       45       56.0       87       21   \n",
      "31    Suresh      M  04-05-1987     75       55        NaN       64       90   \n",
      "32    Ramesh      M  25-05-1989     25       54       89.0       76       95   \n",
      "33   Jessica      F  12-08-1990     78       55       86.0       63       54   \n",
      "34  Jennifer      F  02-09-1989     58       96       78.0       46       96   \n",
      "\n",
      "    Economics  History  Civics  civics100  civics  \n",
      "0          52       89      65        200     100  \n",
      "1          61       58       2        200     100  \n",
      "2          87       56      74        200     100  \n",
      "3          89       75      45        200     100  \n",
      "4          77       83      53        200     100  \n",
      "5          52       89      65        200     100  \n",
      "6          61       58       2        200     100  \n",
      "7          87       56      74        200     100  \n",
      "8          89       75      45        200     100  \n",
      "9          77       83      53        200     100  \n",
      "10         52       89      65        200     100  \n",
      "11         61       58       2        200     100  \n",
      "12         87       56      74        200     100  \n",
      "13         89       75      45        200     100  \n",
      "14         77       83      53        200     100  \n",
      "15         52       89      65        200     100  \n",
      "16         61       58       2        200     100  \n",
      "17         87       56      74        200     100  \n",
      "18         89       75      45        200     100  \n",
      "19         77       83      53        200     100  \n",
      "20         52       89      65        200     100  \n",
      "21         61       58       2        200     100  \n",
      "22         87       56      74        200     100  \n",
      "23         89       75      45        200     100  \n",
      "24         77       83      53        200     100  \n",
      "25         52       89      65        200     100  \n",
      "26         61       58       2        200     100  \n",
      "27         87       56      74        200     100  \n",
      "28         89       75      45        200     100  \n",
      "29         77       83      53        200     100  \n",
      "30         52       89      65        200     100  \n",
      "31         61       58       2        200     100  \n",
      "32         87       56      74        200     100  \n",
      "33         89       75      45        200     100  \n",
      "34         77       83      53        200     100  \n"
     ]
    }
   ],
   "source": [
    "print(df2)"
   ]
  },
  {
   "cell_type": "code",
   "execution_count": 95,
   "id": "c5f9dadf",
   "metadata": {},
   "outputs": [
    {
     "name": "stdout",
     "output_type": "stream",
     "text": [
      "         SNO Gender         DOB  Maths  Physics  Chemistry  English  Biology  \\\n",
      "0       John      M  05-04-1988     55       45       56.0       87       21   \n",
      "1     Suresh      M  04-05-1987     75       55        NaN       64       90   \n",
      "2     Ramesh      M  25-05-1989     25       54       89.0       76       95   \n",
      "3    Jessica      F  12-08-1990     78       55       86.0       63       54   \n",
      "4   Jennifer      F  02-09-1989     58       96       78.0       46       96   \n",
      "5       John      M  05-04-1988     55       45       56.0       87       21   \n",
      "6     Suresh      M  04-05-1987     75       55        NaN       64       90   \n",
      "7     Ramesh      M  25-05-1989     25       54       89.0       76       95   \n",
      "8    Jessica      F  12-08-1990     78       55       86.0       63       54   \n",
      "9   Jennifer      F  02-09-1989     58       96       78.0       46       96   \n",
      "10      John      M  05-04-1988     55       45       56.0       87       21   \n",
      "11    Suresh      M  04-05-1987     75       55        NaN       64       90   \n",
      "12    Ramesh      M  25-05-1989     25       54       89.0       76       95   \n",
      "13   Jessica      F  12-08-1990     78       55       86.0       63       54   \n",
      "14  Jennifer      F  02-09-1989     58       96       78.0       46       96   \n",
      "15      John      M  05-04-1988     55       45       56.0       87       21   \n",
      "16    Suresh      M  04-05-1987     75       55        NaN       64       90   \n",
      "17    Ramesh      M  25-05-1989     25       54       89.0       76       95   \n",
      "18   Jessica      F  12-08-1990     78       55       86.0       63       54   \n",
      "19  Jennifer      F  02-09-1989     58       96       78.0       46       96   \n",
      "20      John      M  05-04-1988     55       45       56.0       87       21   \n",
      "21    Suresh      M  04-05-1987     75       55        NaN       64       90   \n",
      "22    Ramesh      M  25-05-1989     25       54       89.0       76       95   \n",
      "23   Jessica      F  12-08-1990     78       55       86.0       63       54   \n",
      "24  Jennifer      F  02-09-1989     58       96       78.0       46       96   \n",
      "25      John      M  05-04-1988     55       45       56.0       87       21   \n",
      "26    Suresh      M  04-05-1987     75       55        NaN       64       90   \n",
      "27    Ramesh      M  25-05-1989     25       54       89.0       76       95   \n",
      "28   Jessica      F  12-08-1990     78       55       86.0       63       54   \n",
      "29  Jennifer      F  02-09-1989     58       96       78.0       46       96   \n",
      "30      John      M  05-04-1988     55       45       56.0       87       21   \n",
      "31    Suresh      M  04-05-1987     75       55        NaN       64       90   \n",
      "32    Ramesh      M  25-05-1989     25       54       89.0       76       95   \n",
      "33   Jessica      F  12-08-1990     78       55       86.0       63       54   \n",
      "34  Jennifer      F  02-09-1989     58       96       78.0       46       96   \n",
      "\n",
      "    Economics  History  Civics  \n",
      "0          52       89      65  \n",
      "1          61       58       2  \n",
      "2          87       56      74  \n",
      "3          89       75      45  \n",
      "4          77       83      53  \n",
      "5          52       89      65  \n",
      "6          61       58       2  \n",
      "7          87       56      74  \n",
      "8          89       75      45  \n",
      "9          77       83      53  \n",
      "10         52       89      65  \n",
      "11         61       58       2  \n",
      "12         87       56      74  \n",
      "13         89       75      45  \n",
      "14         77       83      53  \n",
      "15         52       89      65  \n",
      "16         61       58       2  \n",
      "17         87       56      74  \n",
      "18         89       75      45  \n",
      "19         77       83      53  \n",
      "20         52       89      65  \n",
      "21         61       58       2  \n",
      "22         87       56      74  \n",
      "23         89       75      45  \n",
      "24         77       83      53  \n",
      "25         52       89      65  \n",
      "26         61       58       2  \n",
      "27         87       56      74  \n",
      "28         89       75      45  \n",
      "29         77       83      53  \n",
      "30         52       89      65  \n",
      "31         61       58       2  \n",
      "32         87       56      74  \n",
      "33         89       75      45  \n",
      "34         77       83      53  \n"
     ]
    }
   ],
   "source": [
    "df2=df2.drop(['civics'],axis=1)\n",
    "print(df2)"
   ]
  },
  {
   "cell_type": "code",
   "execution_count": 96,
   "id": "13bbcffc",
   "metadata": {},
   "outputs": [
    {
     "name": "stdout",
     "output_type": "stream",
     "text": [
      "         SNO Gender         DOB  Maths  Physics  Chemistry  English  Biology  \\\n",
      "0       John      M  05-04-1988     55       45       56.0       87       21   \n",
      "1     Suresh      M  04-05-1987     75       55        NaN       64       90   \n",
      "2     Ramesh      M  25-05-1989     25       54       89.0       76       95   \n",
      "3    Jessica      F  12-08-1990     78       55       86.0       63       54   \n",
      "4   Jennifer      F  02-09-1989     58       96       78.0       46       96   \n",
      "5       John      M  05-04-1988     55       45       56.0       87       21   \n",
      "6     Suresh      M  04-05-1987     75       55        NaN       64       90   \n",
      "7     Ramesh      M  25-05-1989     25       54       89.0       76       95   \n",
      "8    Jessica      F  12-08-1990     78       55       86.0       63       54   \n",
      "9   Jennifer      F  02-09-1989     58       96       78.0       46       96   \n",
      "10      John      M  05-04-1988     55       45       56.0       87       21   \n",
      "11    Suresh      M  04-05-1987     75       55        NaN       64       90   \n",
      "12    Ramesh      M  25-05-1989     25       54       89.0       76       95   \n",
      "13   Jessica      F  12-08-1990     78       55       86.0       63       54   \n",
      "14  Jennifer      F  02-09-1989     58       96       78.0       46       96   \n",
      "15      John      M  05-04-1988     55       45       56.0       87       21   \n",
      "16    Suresh      M  04-05-1987     75       55        NaN       64       90   \n",
      "17    Ramesh      M  25-05-1989     25       54       89.0       76       95   \n",
      "18   Jessica      F  12-08-1990     78       55       86.0       63       54   \n",
      "19  Jennifer      F  02-09-1989     58       96       78.0       46       96   \n",
      "20      John      M  05-04-1988     55       45       56.0       87       21   \n",
      "21    Suresh      M  04-05-1987     75       55        NaN       64       90   \n",
      "22    Ramesh      M  25-05-1989     25       54       89.0       76       95   \n",
      "23   Jessica      F  12-08-1990     78       55       86.0       63       54   \n",
      "24  Jennifer      F  02-09-1989     58       96       78.0       46       96   \n",
      "25      John      M  05-04-1988     55       45       56.0       87       21   \n",
      "26    Suresh      M  04-05-1987     75       55        NaN       64       90   \n",
      "27    Ramesh      M  25-05-1989     25       54       89.0       76       95   \n",
      "28   Jessica      F  12-08-1990     78       55       86.0       63       54   \n",
      "29  Jennifer      F  02-09-1989     58       96       78.0       46       96   \n",
      "30      John      M  05-04-1988     55       45       56.0       87       21   \n",
      "31    Suresh      M  04-05-1987     75       55        NaN       64       90   \n",
      "32    Ramesh      M  25-05-1989     25       54       89.0       76       95   \n",
      "33   Jessica      F  12-08-1990     78       55       86.0       63       54   \n",
      "34  Jennifer      F  02-09-1989     58       96       78.0       46       96   \n",
      "\n",
      "    Economics  History  Civics  \n",
      "0          52       89      65  \n",
      "1          61       58       2  \n",
      "2          87       56      74  \n",
      "3          89       75      45  \n",
      "4          77       83      53  \n",
      "5          52       89      65  \n",
      "6          61       58       2  \n",
      "7          87       56      74  \n",
      "8          89       75      45  \n",
      "9          77       83      53  \n",
      "10         52       89      65  \n",
      "11         61       58       2  \n",
      "12         87       56      74  \n",
      "13         89       75      45  \n",
      "14         77       83      53  \n",
      "15         52       89      65  \n",
      "16         61       58       2  \n",
      "17         87       56      74  \n",
      "18         89       75      45  \n",
      "19         77       83      53  \n",
      "20         52       89      65  \n",
      "21         61       58       2  \n",
      "22         87       56      74  \n",
      "23         89       75      45  \n",
      "24         77       83      53  \n",
      "25         52       89      65  \n",
      "26         61       58       2  \n",
      "27         87       56      74  \n",
      "28         89       75      45  \n",
      "29         77       83      53  \n",
      "30         52       89      65  \n",
      "31         61       58       2  \n",
      "32         87       56      74  \n",
      "33         89       75      45  \n",
      "34         77       83      53  \n"
     ]
    }
   ],
   "source": [
    "print(df2)"
   ]
  },
  {
   "cell_type": "code",
   "execution_count": 98,
   "id": "c73a57b3",
   "metadata": {},
   "outputs": [
    {
     "name": "stdout",
     "output_type": "stream",
     "text": [
      "         SNO Gender         DOB  Maths_Score  Physics  Chemistry  English  \\\n",
      "0       John      M  05-04-1988           55       45       56.0       87   \n",
      "1     Suresh      M  04-05-1987           75       55        NaN       64   \n",
      "2     Ramesh      M  25-05-1989           25       54       89.0       76   \n",
      "3    Jessica      F  12-08-1990           78       55       86.0       63   \n",
      "4   Jennifer      F  02-09-1989           58       96       78.0       46   \n",
      "5       John      M  05-04-1988           55       45       56.0       87   \n",
      "6     Suresh      M  04-05-1987           75       55        NaN       64   \n",
      "7     Ramesh      M  25-05-1989           25       54       89.0       76   \n",
      "8    Jessica      F  12-08-1990           78       55       86.0       63   \n",
      "9   Jennifer      F  02-09-1989           58       96       78.0       46   \n",
      "10      John      M  05-04-1988           55       45       56.0       87   \n",
      "11    Suresh      M  04-05-1987           75       55        NaN       64   \n",
      "12    Ramesh      M  25-05-1989           25       54       89.0       76   \n",
      "13   Jessica      F  12-08-1990           78       55       86.0       63   \n",
      "14  Jennifer      F  02-09-1989           58       96       78.0       46   \n",
      "15      John      M  05-04-1988           55       45       56.0       87   \n",
      "16    Suresh      M  04-05-1987           75       55        NaN       64   \n",
      "17    Ramesh      M  25-05-1989           25       54       89.0       76   \n",
      "18   Jessica      F  12-08-1990           78       55       86.0       63   \n",
      "19  Jennifer      F  02-09-1989           58       96       78.0       46   \n",
      "20      John      M  05-04-1988           55       45       56.0       87   \n",
      "21    Suresh      M  04-05-1987           75       55        NaN       64   \n",
      "22    Ramesh      M  25-05-1989           25       54       89.0       76   \n",
      "23   Jessica      F  12-08-1990           78       55       86.0       63   \n",
      "24  Jennifer      F  02-09-1989           58       96       78.0       46   \n",
      "25      John      M  05-04-1988           55       45       56.0       87   \n",
      "26    Suresh      M  04-05-1987           75       55        NaN       64   \n",
      "27    Ramesh      M  25-05-1989           25       54       89.0       76   \n",
      "28   Jessica      F  12-08-1990           78       55       86.0       63   \n",
      "29  Jennifer      F  02-09-1989           58       96       78.0       46   \n",
      "30      John      M  05-04-1988           55       45       56.0       87   \n",
      "31    Suresh      M  04-05-1987           75       55        NaN       64   \n",
      "32    Ramesh      M  25-05-1989           25       54       89.0       76   \n",
      "33   Jessica      F  12-08-1990           78       55       86.0       63   \n",
      "34  Jennifer      F  02-09-1989           58       96       78.0       46   \n",
      "\n",
      "    Biology  Economics  History  Civics_score  \n",
      "0        21         52       89            65  \n",
      "1        90         61       58             2  \n",
      "2        95         87       56            74  \n",
      "3        54         89       75            45  \n",
      "4        96         77       83            53  \n",
      "5        21         52       89            65  \n",
      "6        90         61       58             2  \n",
      "7        95         87       56            74  \n",
      "8        54         89       75            45  \n",
      "9        96         77       83            53  \n",
      "10       21         52       89            65  \n",
      "11       90         61       58             2  \n",
      "12       95         87       56            74  \n",
      "13       54         89       75            45  \n",
      "14       96         77       83            53  \n",
      "15       21         52       89            65  \n",
      "16       90         61       58             2  \n",
      "17       95         87       56            74  \n",
      "18       54         89       75            45  \n",
      "19       96         77       83            53  \n",
      "20       21         52       89            65  \n",
      "21       90         61       58             2  \n",
      "22       95         87       56            74  \n",
      "23       54         89       75            45  \n",
      "24       96         77       83            53  \n",
      "25       21         52       89            65  \n",
      "26       90         61       58             2  \n",
      "27       95         87       56            74  \n",
      "28       54         89       75            45  \n",
      "29       96         77       83            53  \n",
      "30       21         52       89            65  \n",
      "31       90         61       58             2  \n",
      "32       95         87       56            74  \n",
      "33       54         89       75            45  \n",
      "34       96         77       83            53  \n"
     ]
    }
   ],
   "source": [
    "df2=df2.rename(columns={'Maths':'Maths_Score','Civics':'Civics_score'})\n",
    "print(df2)"
   ]
  },
  {
   "cell_type": "code",
   "execution_count": 103,
   "id": "2cc660a2",
   "metadata": {},
   "outputs": [],
   "source": [
    "df2.to_csv('tm.csv',index=False)\n",
    "df2.to_excel('tm.xlsx',index=False)\n",
    "df2.to_json('tm.json',orient='records')"
   ]
  },
  {
   "cell_type": "code",
   "execution_count": 105,
   "id": "7ca2e9ae",
   "metadata": {},
   "outputs": [],
   "source": [
    "import matplotlib.pyplot as plt "
   ]
  },
  {
   "cell_type": "code",
   "execution_count": 112,
   "id": "313b18c3",
   "metadata": {},
   "outputs": [
    {
     "data": {
      "image/png": "[encoded data removed]",
      "text/plain": [
       "<Figure size 640x480 with 1 Axes>"
      ]
     },
     "metadata": {},
     "output_type": "display_data"
    }
   ],
   "source": [
    "\n",
    "data={\n",
    "    'Year':[2018,2019,2020,2021,2022],\n",
    "    'Sales':[200,134,65,234,210]\n",
    "}\n",
    "df=pd.DataFrame(data)\n",
    "df.plot(x='Year',y='Sales',kind='line',marker='o')\n",
    "plt.title('Sales Trend')\n",
    "plt.xlabel('Year')\n",
    "plt.ylabel('Sales')\n",
    "plt.grid(True)\n",
    "plt.show()"
   ]
  },
  {
   "cell_type": "code",
   "execution_count": null,
   "id": "c2e02fe9",
   "metadata": {},
   "outputs": [],
   "source": []
  },
  {
   "cell_type": "code",
   "execution_count": null,
   "id": "bef8b7dc",
   "metadata": {},
   "outputs": [],
   "source": []
  }
 ],
 "metadata": {
  "kernelspec": {
   "display_name": "Python 3 (ipykernel)",
   "language": "python",
   "name": "python3"
  },
  "language_info": {
   "codemirror_mode": {
    "name": "ipython",
    "version": 3
   },
   "file_extension": ".py",
   "mimetype": "text/x-python",
   "name": "python",
   "nbconvert_exporter": "python",
   "pygments_lexer": "ipython3",
   "version": "3.10.9"
  }
 },
 "nbformat": 4,
 "nbformat_minor": 5
}
